{
 "cells": [
  {
   "cell_type": "code",
   "execution_count": 1,
   "metadata": {
    "collapsed": true
   },
   "outputs": [],
   "source": [
    "# 1. 每行的代码有两种开头，以“#”开头的，是给人类看的“伪代码”，计算机不执行这行代码；不以“#”开头的代码就是正常代码，计算机会忠实执行这行代码\n"
   ]
  },
  {
   "cell_type": "code",
   "execution_count": 3,
   "metadata": {},
   "outputs": [
    {
     "name": "stdout",
     "output_type": "stream",
     "text": [
      "锄禾日当午\n汗滴禾下土\n谁知盘中餐\n粒粒皆辛苦\n"
     ]
    }
   ],
   "source": [
    "# 2. 代码就像诗一样，是一行一行组成的\n",
    "print('锄禾日当午')\n",
    "print('汗滴禾下土')\n",
    "print('谁知盘中餐')\n",
    "print('粒粒皆辛苦')\n",
    "\n"
   ]
  },
  {
   "cell_type": "code",
   "execution_count": 4,
   "metadata": {},
   "outputs": [],
   "source": [
    "# 3. 代码也想数学，每一行都有自己的逻辑\n",
    "x = 3 * 9"
   ]
  },
  {
   "cell_type": "code",
   "execution_count": 5,
   "metadata": {},
   "outputs": [
    {
     "name": "stdout",
     "output_type": "stream",
     "text": [
      "瞎说，世界颠倒了\n"
     ]
    }
   ],
   "source": [
    "# 4. 代码缩进，有些行的代码开头会比上一行开头会多四个空格的缩进。这是代表这一行是属于上一层的内部逻辑。比如：\n",
    "if 2 > 1:\n",
    "    # print这一行比上一行的if多了4个空格，所以print是if里面的逻辑\n",
    "    print('瞎说，世界颠倒了')"
   ]
  },
  {
   "cell_type": "code",
   "execution_count": 6,
   "metadata": {},
   "outputs": [
    {
     "name": "stdout",
     "output_type": "stream",
     "text": [
      "一切正常\n"
     ]
    }
   ],
   "source": [
    "# 5. 代码是思考的表现，具有逻辑的\n",
    "if 1 + 1 == 2:\n",
    "    print('一切正常')\n",
    "else:\n",
    "    print('我们还在梦里')"
   ]
  },
  {
   "cell_type": "code",
   "execution_count": 7,
   "metadata": {},
   "outputs": [
    {
     "ename": "NameError",
     "evalue": "name 'prind' is not defined",
     "traceback": [
      "\u001b[0;31m---------------------------------------------------------------------------\u001b[0m",
      "\u001b[0;31mNameError\u001b[0m                                 Traceback (most recent call last)",
      "\u001b[0;32m<ipython-input-7-22368f968711>\u001b[0m in \u001b[0;36m<module>\u001b[0;34m()\u001b[0m\n\u001b[1;32m      1\u001b[0m \u001b[0;31m# 6. 因为代码是具有逻辑的，所以我们写的代码会有对错。一般的错误有两种：\u001b[0m\u001b[0;34m\u001b[0m\u001b[0;34m\u001b[0m\u001b[0m\n\u001b[1;32m      2\u001b[0m \u001b[0;31m# 6.1 语法错误，就像我们学习的英语、语文一样，单词拼错、主谓宾没用好等等\u001b[0m\u001b[0;34m\u001b[0m\u001b[0;34m\u001b[0m\u001b[0m\n\u001b[0;32m----> 3\u001b[0;31m \u001b[0mprind\u001b[0m\u001b[0;34m(\u001b[0m\u001b[0;34m'单词拼写错啦'\u001b[0m\u001b[0;34m)\u001b[0m\u001b[0;34m\u001b[0m\u001b[0m\n\u001b[0m",
      "\u001b[0;31mNameError\u001b[0m: name 'prind' is not defined"
     ],
     "output_type": "error"
    }
   ],
   "source": [
    "# 6. 因为代码是具有逻辑的，所以我们写的代码会有对错。一般的错误有两种：\n",
    "# 6.1 语法错误，就像我们学习的英语、语文一样，单词拼错、主谓宾没用好等等\n",
    "prind('单词拼写错啦')"
   ]
  },
  {
   "cell_type": "code",
   "execution_count": 9,
   "metadata": {},
   "outputs": [
    {
     "name": "stdout",
     "output_type": "stream",
     "text": [
      "水结冰了\n"
     ]
    }
   ],
   "source": [
    "# 6.2 逻辑错误，因为代码是有逻辑的。如果逻辑没有分析清楚，也会有错误\n",
    "temperature = 3\n",
    "if temperature > 0:\n",
    "    print('水结冰了')"
   ]
  },
  {
   "cell_type": "markdown",
   "metadata": {},
   "source": []
  }
 ],
 "metadata": {
  "kernelspec": {
   "display_name": "Python 2",
   "language": "python",
   "name": "python2"
  },
  "language_info": {
   "codemirror_mode": {
    "name": "ipython",
    "version": 2
   },
   "file_extension": ".py",
   "mimetype": "text/x-python",
   "name": "python",
   "nbconvert_exporter": "python",
   "pygments_lexer": "ipython2",
   "version": "2.7.6"
  }
 },
 "nbformat": 4,
 "nbformat_minor": 0
}
