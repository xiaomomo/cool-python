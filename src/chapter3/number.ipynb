{
 "cells": [
  {
   "cell_type": "markdown",
   "metadata": {
    "collapsed": true
   },
   "source": [
    "1. 什么是数据\n",
    "\n",
    "我们知道，计算机里的照片、视频、文档都是以数据的形式存储在硬盘里的。那我们怎么用python代码来表达这些数据呢？\n",
    "\n",
    "用python表达数据非常简单。从逻辑上，我们把数据分为了：数字、布尔、字符串。\n",
    "\n",
    "2. 数字\n",
    "我们先来看看一些表达数字的例子：\n",
    "\n"
   ]
  },
  {
   "cell_type": "code",
   "execution_count": 1,
   "metadata": {},
   "outputs": [
    {
     "data": {
      "text/plain": [
       "-3"
      ]
     },
     "execution_count": 1,
     "metadata": {},
     "output_type": "execute_result"
    }
   ],
   "source": [
    "2\n",
    "3 + 5\n",
    "-3\n"
   ]
  },
  {
   "cell_type": "markdown",
   "metadata": {},
   "source": [
    "是不是很简单，python表达数字就像我们学习的数学一样简单。下面我们来详细看一下数字："
   ]
  },
  {
   "cell_type": "code",
   "execution_count": 2,
   "metadata": {},
   "outputs": [
    {
     "data": {
      "text/plain": [
       "-7"
      ]
     },
     "execution_count": 2,
     "metadata": {},
     "output_type": "execute_result"
    }
   ],
   "source": [
    "# 1. 定义数字，我们直接把数字写下来就好\n",
    "2\n",
    "3.5\n",
    "-7\n"
   ]
  },
  {
   "cell_type": "code",
   "execution_count": 4,
   "metadata": {},
   "outputs": [
    {
     "data": {
      "text/plain": [
       "4.0"
      ]
     },
     "execution_count": 4,
     "metadata": {},
     "output_type": "execute_result"
    }
   ],
   "source": [
    "# 2. 对数字进行操作\n",
    "# 加法\n",
    "2 + 3\n",
    "# 减法\n",
    "2 - 7\n",
    "# 乘法，键盘上没有乘号，python使用“*”表示乘号（其他大多数编程语言也是这样）\n",
    "3 * 7\n",
    "# 除法，python用键盘上的“/”表示除法\n",
    "20/5\n",
    "# 我们发现 20/5 计算机返回的是4.0而不是4，这是因为Python没有把整数和小数严格分开。\n"
   ]
  },
  {
   "cell_type": "code",
   "execution_count": 5,
   "metadata": {},
   "outputs": [
    {
     "data": {
      "text/plain": [
       "6"
      ]
     },
     "execution_count": 5,
     "metadata": {},
     "output_type": "execute_result"
    }
   ],
   "source": [
    "# 3. 对数字的特殊操作\n",
    "# 3.1 我们知道，两个数相除会得到商和余数两部分，我们该怎么分别取得这两部分呢？\n",
    "# python使用“//”来获取两个数相除得到的商\n",
    "20//7\n",
    "# python使用“%”来获取两个数相除得到的余数\n",
    "20 % 7"
   ]
  },
  {
   "cell_type": "markdown",
   "metadata": {},
   "source": [
    "# 程序中哪些地方用到数字\n",
    "我们知道，数字可以代表物体的多少。在程序中，数字的作用非常广泛，英雄剩余的血量、获得金币的个数、敌人数量，这些都是用数字来表示的。获得一个金币就是用加法把金币加1；被敌人打了一下就是用减法把血量减少200。\n",
    "\n",
    "我们来看一个例子：\n"
   ]
  },
  {
   "cell_type": "code",
   "execution_count": 3,
   "metadata": {},
   "outputs": [
    {
     "name": "stdout",
     "output_type": "stream",
     "text": [
      "2500\n"
     ]
    }
   ],
   "source": [
    "# 模拟猫狗打斗生命值变化的代码\n",
    "dog_life = 2000\n",
    "cat_life = 3000\n",
    "# dog.hit(cat)\n",
    "cat_life = cat_life - 500\n",
    "print(cat_life)"
   ]
  },
  {
   "cell_type": "code",
   "execution_count": 5,
   "metadata": {
    "collapsed": false
   },
   "outputs": [
    {
     "name": "stdout",
     "output_type": "stream",
     "text": [
      "30\n"
     ]
    }
   ],
   "source": [
    "# 模拟一个简单的计算器\n",
    "# 第一个数字\n",
    "first_num = 10\n",
    "# 第二个数字\n",
    "second_num = 20\n",
    "# 操作符\n",
    "operator = \"+\"\n",
    "\n",
    "# 如果操作符是加号\n",
    "if \"+\" == operator:\n",
    "    answer = first_num + second_num\n",
    "\n",
    "# 如果操作符是减号\n",
    "if \"-\" == operator:\n",
    "    answer = first_num - second_num\n",
    "\n",
    "# 如果操作符是乘号\n",
    "if \"*\" == operator:\n",
    "    answer = first_num * second_num\n",
    "\n",
    "if \"/\" == operator:\n",
    "    answer = first_num / second_num\n",
    "print(answer)\n"
   ]
  },
  {
   "cell_type": "code",
   "execution_count": null,
   "metadata": {},
   "outputs": [],
   "source": [
    "# 极客之路 1. 计算机精度"
   ]
  }
 ],
 "metadata": {
  "kernelspec": {
   "display_name": "Python 2",
   "language": "python",
   "name": "python2"
  },
  "language_info": {
   "codemirror_mode": {
    "name": "ipython",
    "version": 2
   },
   "file_extension": ".py",
   "mimetype": "text/x-python",
   "name": "python",
   "nbconvert_exporter": "python",
   "pygments_lexer": "ipython2",
   "version": "2.7.6"
  }
 },
 "nbformat": 4,
 "nbformat_minor": 0
}
