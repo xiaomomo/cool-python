{
 "cells": [
  {
   "cell_type": "markdown",
   "metadata": {
    "collapsed": true
   },
   "source": [
    "1. 什么是数据\n",
    "\n",
    "我们知道，计算机里的照片、视频、文档都是以数据的形式存储在硬盘里的。那我们怎么用python代码来表达这些数据呢？\n",
    "\n",
    "用python表达数据非常简单。从逻辑上，我们把数据分为了：数字、布尔、字符串。\n",
    "\n",
    "2. 数字\n",
    "我们先来看看一些表达数字的例子：\n",
    "\n"
   ]
  }
 ],
 "metadata": {
  "kernelspec": {
   "display_name": "Python 2",
   "language": "python",
   "name": "python2"
  },
  "language_info": {
   "codemirror_mode": {
    "name": "ipython",
    "version": 2
   },
   "file_extension": ".py",
   "mimetype": "text/x-python",
   "name": "python",
   "nbconvert_exporter": "python",
   "pygments_lexer": "ipython2",
   "version": "2.7.6"
  }
 },
 "nbformat": 4,
 "nbformat_minor": 0
}
