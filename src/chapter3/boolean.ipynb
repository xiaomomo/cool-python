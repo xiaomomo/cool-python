{
 "cells": [
  {
   "cell_type": "markdown",
   "metadata": {
    "collapsed": true
   },
   "source": [
    "Boolean 是一个比较特殊的数据类型。在生活中有一些非真既假的数据，比如：小明是个男生、明天会下雨、我这次考试得了优。这些句子要么正确（True），要么错误（False），只会有这两种可能。\n",
    "\n",
    "我们把这种数据表示为布尔，也就是Boolean。Boolean类型的数据只有两个值，True代表正确；False带包错误。\n",
    "\n"
   ]
  },
  {
   "cell_type": "code",
   "execution_count": 4,
   "metadata": {},
   "outputs": [
    {
     "data": {
      "text/plain": [
       "False"
      ]
     },
     "execution_count": 4,
     "metadata": {},
     "output_type": "execute_result"
    }
   ],
   "source": [
    "# 1. 定义布尔类型的数据很简单，我们直接写 True、False即可\n",
    "True\n",
    "False"
   ]
  },
  {
   "cell_type": "markdown",
   "metadata": {},
   "source": [
    "我们对数字可以做加减乘除，对布尔"
   ]
  },
  {
   "cell_type": "markdown",
   "metadata": {},
   "source": [
    "# 1. 而且（and）；我们可以将两个布尔类型的数据用而且（and）链接在一起形成一个新的布尔数据。\n",
    "# 比如：“小明是个男生而且（而且）小明上三年级了”、“明天会下雨而且（and）明天是周六”。\n",
    "\n",
    "\n",
    "True and False"
   ]
  },
  {
   "cell_type": "markdown",
   "metadata": {},
   "source": [
    "# 极客之路\n",
    "1. 布尔代数"
   ]
  }
 ],
 "metadata": {
  "kernelspec": {
   "display_name": "Python 2",
   "language": "python",
   "name": "python2"
  },
  "language_info": {
   "codemirror_mode": {
    "name": "ipython",
    "version": 2
   },
   "file_extension": ".py",
   "mimetype": "text/x-python",
   "name": "python",
   "nbconvert_exporter": "python",
   "pygments_lexer": "ipython2",
   "version": "2.7.6"
  }
 },
 "nbformat": 4,
 "nbformat_minor": 0
}
